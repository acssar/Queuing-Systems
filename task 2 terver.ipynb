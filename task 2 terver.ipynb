{
 "cells": [
  {
   "cell_type": "markdown",
   "id": "698a4d9b-4380-4ef5-93e6-3f3d3ad1f21f",
   "metadata": {},
   "source": [
    "# Расчётное задание по системам массового обслуживания\n",
    "## 1. Определить вероятность блокировки пакета днем и ночью, если входной и выходной поток являются пуассоновскими\n",
    "Используем формулу для подсчета вероятности отказа многоканальной СМО с очередью\n",
    "нам даны: количество концентраторов, интенсивность днём и ночью, \n",
    "максимальный размер очереди (размер буфера минус 1) \n",
    "и выходная интенсивность (скорость передачи, деленная на среднюю длину пакета 2400/1200)"
   ]
  },
  {
   "cell_type": "code",
   "execution_count": 1,
   "id": "7ccb481e-ab92-47f1-8c5f-28bad14ea9d3",
   "metadata": {},
   "outputs": [
    {
     "name": "stdout",
     "output_type": "stream",
     "text": [
      "Вероятность отказа днём: 0.0026109660574412533\n",
      "Вероятность отказа ночью: 9.271833754537287e-08\n"
     ]
    }
   ],
   "source": [
    "import numpy as np\n",
    "import random\n",
    "\n",
    "# Количество концентраторов\n",
    "k = 2\n",
    "# Интесивность входного потока\n",
    "lambda_day = 2\n",
    "# Интенсивность ночного потока\n",
    "lambda_night = 0.5\n",
    "# Максимальный размер очереди\n",
    "m = 6\n",
    "# Интенсивность выходного потока\n",
    "mu = 2\n",
    "# Количество обслуженных заявок в единицу времени\n",
    "p_day = lambda_day / mu\n",
    "p_night = lambda_night / mu\n",
    "# Предельная вероятность\n",
    "p0 = 0\n",
    "f = 1\n",
    "for i in range(1, k + 1):\n",
    "    f *= i\n",
    "    p0 += (p_day ** i) / f\n",
    "p0 = (p0 + 1 + (((p_day ** (k + 1)) / (k * f)) * (1 - (p_day / k) ** m) / (1 - p_day / k))) ** (-1)\n",
    "# Вероятность отказа\n",
    "pd = (p_day ** (k + m) / ((k ** m) * f)) * p0\n",
    "\n",
    "p0 = 0\n",
    "f = 1\n",
    "for i in range(1, k + 1):\n",
    "    f *= i\n",
    "    p0 += (p_night ** i) / f\n",
    "p0 = (p0 + 1 + (((p_night ** (k + 1)) / (k * f)) * (1 - (p_night / k) ** m) / (1 - p_night / k))) ** (-1)\n",
    "# Вероятность отказа\n",
    "pe = (p_night ** (k + m) / ((k ** m) * f)) * p0\n",
    "\n",
    "print('Вероятность отказа днём:', pd)\n",
    "print('Вероятность отказа ночью:', pe)\n",
    "\n"
   ]
  },
  {
   "cell_type": "markdown",
   "id": "e2199a55-d528-4ab9-9262-9619746a855c",
   "metadata": {},
   "source": [
    "## 2. Определить вероятность блокировки пакета в задаче 1, используя метод Монте-Карло. Сравнить результаты\n",
    "Исходные данные те же, количество пакетов рассчитываем так: по условию день - 16 часов, ночь - 8 часов\n",
    "мы переводим это в секунды и умножаем на соответсвующую интенсивность. \n",
    "Повторы берем так, чтобы слишком долго не считало =), но чем больше повторов - тем больше точность\n"
   ]
  },
  {
   "cell_type": "code",
   "execution_count": 3,
   "id": "23007682-7fd1-443f-ab90-4f5faba650fe",
   "metadata": {},
   "outputs": [
    {
     "name": "stdout",
     "output_type": "stream",
     "text": [
      "Вероятность отказа днём: 0.002669791666666666\n",
      "Вероятность отказа ночью: 0.0\n"
     ]
    }
   ],
   "source": [
    "import numpy as np\n",
    "import random\n",
    "\n",
    "\n",
    "def alg(lambda_day, n_packets):\n",
    "    # Количество концентраторов\n",
    "    k = 2\n",
    "    # Инициализация генеротора случайных чисел\n",
    "    np.random.seed(100)\n",
    "    # Вероятность блокировки\n",
    "    p_refuse = 0\n",
    "    # Количество повторов в методе Монте-Карло\n",
    "    n_rep = 50\n",
    "    # Имитационное моделирование\n",
    "    # Интенсивность выходного потока\n",
    "    mu = 2\n",
    "    for i in range(n_rep):\n",
    "\n",
    "        # Текущее время\n",
    "        t = 0\n",
    "        # текущий размер очереди\n",
    "        queue = 0\n",
    "        # Максимальный размер очереди\n",
    "        m = 6\n",
    "        # время, когда прибор освободится\n",
    "        t_free = []\n",
    "        for j in range(k):\n",
    "            t_free.append(0)\n",
    "        # Количество потярянных пактеов\n",
    "        n_lost = 0\n",
    "        for f in range(n_packets):\n",
    "            # время поступления нового пакета\n",
    "            t += np.random.exponential(scale=1 / lambda_day)\n",
    "            # проверяем, свободен ли концентратор\n",
    "            n = 0\n",
    "            if queue > 0:\n",
    "                for j in range(k):\n",
    "                    while t_free[j] < t and queue > 0:\n",
    "                        t_free[j] += np.random.exponential(scale=1 / mu)\n",
    "                        queue -= 1\n",
    "            for h in range(k):\n",
    "                if t_free[h] < t:\n",
    "                    t_free[h] = t + np.random.exponential(scale=1 / mu)\n",
    "                    break\n",
    "                else:\n",
    "                    n += 1\n",
    "            if n == k:\n",
    "                if queue < m:\n",
    "                    queue += 1\n",
    "                else:\n",
    "                    n_lost += 1\n",
    "        p_refuse += n_lost / n_packets\n",
    "    return p_refuse\n",
    "\n",
    "\n",
    "# Оценка вероятности блокировки\n",
    "# Количество повторов в методе Монте-Карло\n",
    "n_rep = 50\n",
    "# Количество пакетов (3600 секунд в часе, интенсивность)\n",
    "p_refuse1 = alg(2, 16 * 3600 * 2) / n_rep\n",
    "p_refuse2 = alg(0.5, 4 * 3600) / n_rep\n",
    "print('Вероятность отказа днём: ' + str(p_refuse1))\n",
    "print('Вероятность отказа ночью: ' + str(p_refuse2))"
   ]
  },
  {
   "cell_type": "markdown",
   "id": "faddcd3e-14d9-4c0c-9de3-9f668040e455",
   "metadata": {},
   "source": [
    "Вероятность отказа днём сходится, а ночью метод Монте-Карло выдаёт нулевую, потому что проверок слишком мало, она стремится к нулю, надо хотя бы ~миллион проверок"
   ]
  },
  {
   "cell_type": "markdown",
   "id": "775ddd4c-4284-4155-8c7f-e877ffbd704e",
   "metadata": {},
   "source": [
    "## 3. Определить оптимальный размер буфера, чтобы вероятность блокировки пакета не превышала 0.0001\n",
    "В третьем пункте считается по циклу наращивая очередь (это буфер декрементированный на единицу, т.е. B - 1) пока вероятность не станет меньше 0.0001\n",
    "Можно делать по первому пункту, можно по второму, сделал через Монте-Карло"
   ]
  },
  {
   "cell_type": "code",
   "execution_count": 5,
   "id": "6a80556a-a4a5-4bfe-a98e-0103ab57fdf2",
   "metadata": {},
   "outputs": [
    {
     "name": "stdout",
     "output_type": "stream",
     "text": [
      "Вероятность отказа днём: 6e-05 < 0.0001\n",
      "Размер буфера днём: 12\n",
      "Вероятность отказа ночью: 1e-05 < 0.0001\n",
      "Размер буфера ночью: 4\n"
     ]
    }
   ],
   "source": [
    "import numpy as np\n",
    "\n",
    "# Инициализация генеротора случайных чисел\n",
    "np.random.seed(100)\n",
    "\n",
    "\n",
    "def calculations(k, lambda_, mu):\n",
    "    # Количество повторов в методе Монте-Карло\n",
    "    n_rep = 100\n",
    "    # Вероятность блокировки\n",
    "    p_refuse = 0\n",
    "    # Имитационное моделирование\n",
    "    m = 0\n",
    "    while 1:\n",
    "        for i in range(n_rep):\n",
    "            # текущий размер очереди\n",
    "            queue = 0\n",
    "            # Количество пакетов\n",
    "            n_packets = 1000\n",
    "            # Текущее время\n",
    "            t = 0\n",
    "            # время, когда прибор освободится\n",
    "\n",
    "            t_free = []\n",
    "            for j in range(k):\n",
    "                t_free.append(0)\n",
    "            # Количество потярянных пактеов\n",
    "            n_lost = 0\n",
    "            for f in range(n_packets):\n",
    "                # время поступления нового пакета\n",
    "                t += np.random.exponential(scale=1 / lambda_)\n",
    "                # проверяем, свободен ли концентратор\n",
    "                n = 0\n",
    "                if queue > 0:\n",
    "                    for j in range(k):\n",
    "                        while t_free[j] < t and queue > 0:\n",
    "                            t_free[j] += np.random.exponential(scale=1 / mu)\n",
    "                            queue -= 1\n",
    "                for h in range(k):\n",
    "                    if t_free[h] < t:\n",
    "                        t_free[h] = t + np.random.exponential(scale=1 / mu)\n",
    "                        break\n",
    "                    else:\n",
    "                        n += 1\n",
    "                if n == k:\n",
    "                    if queue < m:\n",
    "                        queue += 1\n",
    "                    else:\n",
    "                        n_lost += 1\n",
    "            p_refuse += n_lost / n_packets\n",
    "        p_refuse /= n_rep\n",
    "        if p_refuse < 0.0001:\n",
    "            break\n",
    "        else:\n",
    "            m += 1\n",
    "            p_refuse = 0\n",
    "\n",
    "    # Оценка вероятности блокировки\n",
    "    return p_refuse, m + 1\n",
    "\n",
    "\n",
    "# Количество концентраторов\n",
    "k_ = 2\n",
    "\n",
    "# Интенсивность потока\n",
    "mu_ = 2400 / 1200\n",
    "\n",
    "lambda_day = 2\n",
    "lambda_night = 0.5\n",
    "p_day, b_day = calculations(k_, lambda_day, mu_)\n",
    "p_night, b_night = calculations(k_, lambda_night, mu_)\n",
    "\n",
    "print('Вероятность отказа днём: ' + str(p_day) + ' < 0.0001')\n",
    "print('Размер буфера днём: ' + str(b_day))\n",
    "print('Вероятность отказа ночью: ' + str(p_night) + ' < 0.0001')\n",
    "print('Размер буфера ночью: ' + str(b_night))"
   ]
  },
  {
   "cell_type": "markdown",
   "id": "fa1a75e5-365b-401a-ae1f-e2b56a514e99",
   "metadata": {},
   "source": [
    "Получается, что днём надо взять буфер 12 (очередь = 11), а ночью 4 (очередь = 3)"
   ]
  }
 ],
 "metadata": {
  "kernelspec": {
   "display_name": "Python 3 (ipykernel)",
   "language": "python",
   "name": "python3"
  },
  "language_info": {
   "codemirror_mode": {
    "name": "ipython",
    "version": 3
   },
   "file_extension": ".py",
   "mimetype": "text/x-python",
   "name": "python",
   "nbconvert_exporter": "python",
   "pygments_lexer": "ipython3",
   "version": "3.8.10"
  }
 },
 "nbformat": 4,
 "nbformat_minor": 5
}
